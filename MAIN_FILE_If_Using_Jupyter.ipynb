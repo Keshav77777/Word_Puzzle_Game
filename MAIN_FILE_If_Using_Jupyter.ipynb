{
 "cells": [
  {
   "cell_type": "code",
   "execution_count": 1,
   "metadata": {},
   "outputs": [
    {
     "name": "stdout",
     "output_type": "stream",
     "text": [
      "animals\n",
      "cities\n"
     ]
    }
   ],
   "source": [
    "import imp\n",
    "import tkinter\n",
    "import beta1\n",
    "import homepage\n",
    "if __name__=='__main__':\n",
    "    imp.reload(homepage)\n",
    "    while True:\n",
    "        imp.reload(beta1)\n",
    "        beta1.main()\n",
    "        if beta1.reset_val==1:\n",
    "            continue\n",
    "        if beta1.exit_val==1:\n",
    "            break     "
   ]
  },
  {
   "cell_type": "code",
   "execution_count": null,
   "metadata": {},
   "outputs": [],
   "source": []
  },
  {
   "cell_type": "code",
   "execution_count": null,
   "metadata": {},
   "outputs": [],
   "source": []
  },
  {
   "cell_type": "code",
   "execution_count": null,
   "metadata": {},
   "outputs": [],
   "source": []
  }
 ],
 "metadata": {
  "kernelspec": {
   "display_name": "Python 3",
   "language": "python",
   "name": "python3"
  },
  "language_info": {
   "codemirror_mode": {
    "name": "ipython",
    "version": 3
   },
   "file_extension": ".py",
   "mimetype": "text/x-python",
   "name": "python",
   "nbconvert_exporter": "python",
   "pygments_lexer": "ipython3",
   "version": "3.6.5"
  }
 },
 "nbformat": 4,
 "nbformat_minor": 2
}
